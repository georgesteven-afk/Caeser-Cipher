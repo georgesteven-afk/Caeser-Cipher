{
 "cells": [
  {
   "cell_type": "code",
   "execution_count": 1,
   "metadata": {},
   "outputs": [
    {
     "name": "stdout",
     "output_type": "stream",
     "text": [
      "Enter a key to be used: 3\n",
      "{'A': 'D', 'B': 'E', 'C': 'F', 'D': 'G', 'E': 'H', 'F': 'I', 'G': 'J', 'H': 'K', 'I': 'L', 'J': 'M', 'K': 'N', 'L': 'O', 'M': 'P', 'N': 'Q', 'O': 'R', 'P': 'S', 'Q': 'T', 'R': 'U', 'S': 'V', 'T': 'W', 'U': 'X', 'V': 'Y', 'W': 'Z', 'X': 'A', 'Y': 'B', 'Z': 'C'}\n"
     ]
    }
   ],
   "source": [
    "#generating a key to encrypt\n",
    "\n",
    "def gen_key(n):\n",
    "    letters = \"ABCDEFGHIJKLMNOPQRSTUVWXYZ\"\n",
    "    key = {}\n",
    "    count = 0\n",
    "    \n",
    "    for c in letters:\n",
    "        key[c] = letters[(count+n)%len(letters)]\n",
    "        count+=1\n",
    "        \n",
    "    return key\n",
    "\n",
    "#user generating a key to be used\n",
    "key_gen = int(input(\"Enter a key to be used: \"))\n",
    "\n",
    "#calling the function here\n",
    "key = gen_key(key_gen)\n",
    "print(key)"
   ]
  },
  {
   "cell_type": "code",
   "execution_count": 2,
   "metadata": {},
   "outputs": [
    {
     "name": "stdout",
     "output_type": "stream",
     "text": [
      "Enter a message to be encrypted: YOU ARE AWESOME\n",
      "Encrypted text is:  BRX DUH DZHVRPH\n"
     ]
    }
   ],
   "source": [
    "#trying to encrypt the message given by the user using caeser cipher\n",
    "\n",
    "def encrypt(key, message):\n",
    "    \n",
    "    cipher_txt = \"\"\n",
    "    \n",
    "    for c in message:\n",
    "        if c in key:\n",
    "            cipher_txt+=key[c]\n",
    "        else:\n",
    "            cipher_txt+=c\n",
    "    return cipher_txt\n",
    "\n",
    "message = str(input(\"Enter a message to be encrypted: \"))\n",
    "cipher_txt = encrypt(key, message)\n",
    "print(\"Encrypted text is: \",cipher_txt)"
   ]
  },
  {
   "cell_type": "code",
   "execution_count": 3,
   "metadata": {},
   "outputs": [],
   "source": [
    "#generating decryption key\n",
    "\n",
    "def gen_dkey(key):\n",
    "    dkey = {}\n",
    "    for c in key:\n",
    "        dkey[key[c]] = c\n",
    "    return dkey"
   ]
  },
  {
   "cell_type": "code",
   "execution_count": 4,
   "metadata": {},
   "outputs": [
    {
     "name": "stdout",
     "output_type": "stream",
     "text": [
      "YOU ARE AWESOME\n"
     ]
    }
   ],
   "source": [
    "dkey = gen_dkey(key)\n",
    "message = encrypt(dkey, cipher_txt)\n",
    "print(message)"
   ]
  },
  {
   "cell_type": "code",
   "execution_count": null,
   "metadata": {
    "scrolled": true
   },
   "outputs": [],
   "source": [
    "for i in range(26):\n",
    "    dkey = gen_key(i)\n",
    "    message = encrypt(dkey,cipher_txt)\n",
    "    print(message)"
   ]
  },
  {
   "cell_type": "code",
   "execution_count": null,
   "metadata": {},
   "outputs": [],
   "source": []
  }
 ],
 "metadata": {
  "kernelspec": {
   "display_name": "Python 3",
   "language": "python",
   "name": "python3"
  },
  "language_info": {
   "codemirror_mode": {
    "name": "ipython",
    "version": 3
   },
   "file_extension": ".py",
   "mimetype": "text/x-python",
   "name": "python",
   "nbconvert_exporter": "python",
   "pygments_lexer": "ipython3",
   "version": "3.8.5"
  }
 },
 "nbformat": 4,
 "nbformat_minor": 4
}
